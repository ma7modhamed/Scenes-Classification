{
 "cells": [
  {
   "cell_type": "markdown",
   "metadata": {
    "id": "mcreMKivaN9k",
    "colab_type": "text"
   },
   "source": [
    "Load Data from Kaggle\n"
   ]
  },
  {
   "cell_type": "code",
   "execution_count": 0,
   "metadata": {
    "id": "KhSn1_SKZ2lH",
    "colab_type": "code",
    "colab": {}
   },
   "outputs": [],
   "source": [
    "!pip uninstall -y kaggle\n",
    "!pip install kaggle==1.5.6\n",
    "%env KAGGLE_USERNAME =wael912\n",
    "%env KAGGLE_KEY = 01ae2936b1a40e424f70388d108339c5\n",
    "!kaggle competitions download -c fcis-sc-deeplearning-competition\n",
    "\n",
    "!unzip /content/fcis-sc-deeplearning-competition.zip\n",
    "#!unzip /content/Validate.zip\n"
   ]
  },
  {
   "cell_type": "code",
   "execution_count": 10,
   "metadata": {
    "id": "vHW5MeUgyQxD",
    "colab_type": "code",
    "outputId": "3f5b4413-769b-46ed-bf74-fb4315bd0d15",
    "executionInfo": {
     "status": "ok",
     "timestamp": 1.577183875288E12,
     "user_tz": -120.0,
     "elapsed": 795.0,
     "user": {
      "displayName": "Wael Mohamed",
      "photoUrl": "https://lh3.googleusercontent.com/a-/AAuE7mCd3pHVlEXQwIlbIVMUDu5jLf6mEzYj5dBuP6Va=s64",
      "userId": "16989765338276138215"
     }
    },
    "colab": {
     "base_uri": "https://localhost:8080/",
     "height": 54.0
    }
   },
   "outputs": [
    {
     "name": "stdout",
     "output_type": "stream",
     "text": [
      "Drive already mounted at /content/drive; to attempt to forcibly remount, call drive.mount(\"/content/drive\", force_remount=True).\n"
     ]
    }
   ],
   "source": [
    "from google.colab import drive\n",
    "drive.mount('/content/drive')"
   ]
  },
  {
   "cell_type": "markdown",
   "metadata": {
    "id": "SgO5nusraeK6",
    "colab_type": "text"
   },
   "source": [
    "Keras Import\n"
   ]
  },
  {
   "cell_type": "code",
   "execution_count": 0,
   "metadata": {
    "id": "tv2opMPYagDH",
    "colab_type": "code",
    "colab": {}
   },
   "outputs": [],
   "source": [
    "import keras \n",
    "from keras.layers import InputLayer , Dense , Activation  , AvgPool1D , MaxPooling1D ,Flatten , Dropout  , GlobalAveragePooling1D\n",
    "from keras.layers import Conv1D  , Conv2D , MaxPooling2D\n",
    "from keras.models import Sequential ,Model\n",
    "from keras.applications import vgg16 , vgg19\n",
    "from keras.applications import xception , inception_v3 , resnet_v2 , resnet , inception_resnet_v2 ,nasnet\n",
    "from keras.optimizers import *\n",
    "from keras.metrics import categorical_accuracy\n",
    "from keras import Model\n",
    "from keras import layers\n",
    "import numpy  as np\n",
    "\n",
    "BD = \"Block Runned successfully\"\n"
   ]
  },
  {
   "cell_type": "markdown",
   "metadata": {
    "id": "NXDeiJaVhLoz",
    "colab_type": "text"
   },
   "source": [
    "Image Augmentation "
   ]
  },
  {
   "cell_type": "code",
   "execution_count": 0,
   "metadata": {
    "id": "YV-U6yLchSGr",
    "colab_type": "code",
    "colab": {}
   },
   "outputs": [],
   "source": [
    "from keras.preprocessing.image import ImageDataGenerator\n",
    "\n",
    "import keras.preprocessing.image as pre_img\n",
    "\n",
    "from keras.applications.inception_v3 import preprocess_input \n",
    "\n",
    "# Initialising the ImageDataGenerator class. \n",
    "# We will pass in the augmentation parameters in the constructor. \n",
    "datagen = ImageDataGenerator( \n",
    "        rotation_range = 30, \n",
    "        width_shift_range=0.2,\n",
    "        height_shift_range=0.2,\n",
    "        shear_range = 0.2, \n",
    "        zoom_range = 0.2, \n",
    "        horizontal_flip = True, \n",
    "        brightness_range = (0.5, 1.5)\n",
    "        \n",
    "        ) \n",
    "\n",
    "datagen.fit(X_train)\n",
    "\n",
    "#print (len(X_train))\n",
    "#print (len (Y_train ))\n",
    "#x =  datagen.flow(X_train , Y_train , batch_size = 1 )\n",
    "'''\n",
    "i=0\n",
    "for batch in datagen.flow(X_train, batch_size = 1, \n",
    "                          save_to_dir ='/content/test_agu',  \n",
    "                          save_prefix ='image', save_format ='jpeg'): \n",
    "    i += 1\n",
    "    if i > 5: \n",
    "        break\n",
    "'''"
   ]
  },
  {
   "cell_type": "markdown",
   "metadata": {
    "id": "_r1Ig9oCdBn2",
    "colab_type": "text"
   },
   "source": [
    "Import tflearn libraries"
   ]
  },
  {
   "cell_type": "code",
   "execution_count": 0,
   "metadata": {
    "id": "RgGolwuddBHL",
    "colab_type": "code",
    "colab": {}
   },
   "outputs": [],
   "source": [
    "import cv2\n",
    "import csv\n",
    "\n",
    "from skimage import io as io\n",
    "from skimage.transform import resize\n",
    "\n",
    "import numpy as np\n",
    "from numpy import zeros, newaxis\n",
    "import os\n",
    "from random import shuffle\n",
    "from tqdm import tqdm\n",
    "import tensorflow as tf\n",
    "import matplotlib.pyplot as plt\n",
    "\n",
    "import pandas as pd\n",
    "\n",
    "import tflearn\n",
    "from tflearn.layers.conv import conv_2d, max_pool_2d\n",
    "from tflearn.layers.core import input_data, dropout, fully_connected\n",
    "from tflearn.layers.estimator import regression\n",
    "\n",
    "tf.disable_v2_behavior()\n"
   ]
  },
  {
   "cell_type": "markdown",
   "metadata": {
    "id": "mzFCzkYMd1E5",
    "colab_type": "text"
   },
   "source": [
    "read data "
   ]
  },
  {
   "cell_type": "code",
   "execution_count": 5,
   "metadata": {
    "id": "AM35czuHd6bn",
    "colab_type": "code",
    "outputId": "f374eefa-8d95-47e6-d491-15c3b9ba2635",
    "executionInfo": {
     "status": "ok",
     "timestamp": 1.577183819276E12,
     "user_tz": -120.0,
     "elapsed": 25297.0,
     "user": {
      "displayName": "Wael Mohamed",
      "photoUrl": "https://lh3.googleusercontent.com/a-/AAuE7mCd3pHVlEXQwIlbIVMUDu5jLf6mEzYj5dBuP6Va=s64",
      "userId": "16989765338276138215"
     }
    },
    "colab": {
     "base_uri": "https://localhost:8080/",
     "height": 1000.0
    }
   },
   "outputs": [
    {
     "name": "stderr",
     "output_type": "stream",
     "text": [
      "  0%|          | 0/10 [00:00<?, ?it/s]\n",
      "  0%|          | 0/277 [00:00<?, ?it/s]\u001b[A\n",
      "  3%|▎         | 8/277 [00:00<00:03, 77.67it/s]\u001b[A\n",
      "  4%|▍         | 11/277 [00:00<00:05, 49.22it/s]\u001b[A\n",
      " 11%|█         | 31/277 [00:00<00:03, 63.24it/s]\u001b[A\n",
      " 18%|█▊        | 49/277 [00:00<00:02, 78.19it/s]\u001b[A\n",
      " 22%|██▏       | 60/277 [00:00<00:02, 81.21it/s]\u001b[A\n",
      " 25%|██▌       | 70/277 [00:00<00:02, 79.46it/s]\u001b[A\n",
      " 32%|███▏      | 90/277 [00:00<00:01, 96.35it/s]\u001b[A\n",
      " 37%|███▋      | 103/277 [00:00<00:01, 101.24it/s]\u001b[A\n",
      " 42%|████▏     | 116/277 [00:01<00:01, 87.91it/s] \u001b[A\n",
      " 50%|█████     | 139/277 [00:01<00:01, 107.62it/s]\u001b[A\n",
      " 56%|█████▋    | 156/277 [00:01<00:01, 120.50it/s]\u001b[A\n",
      " 62%|██████▏   | 171/277 [00:01<00:00, 124.47it/s]\u001b[A\n",
      " 67%|██████▋   | 186/277 [00:01<00:00, 123.52it/s]\u001b[A\n",
      " 73%|███████▎  | 201/277 [00:01<00:00, 130.04it/s]\u001b[A\n",
      " 78%|███████▊  | 216/277 [00:01<00:00, 132.01it/s]\u001b[A\n",
      " 85%|████████▌ | 236/277 [00:01<00:00, 144.53it/s]\u001b[A\n",
      " 93%|█████████▎| 258/277 [00:01<00:00, 161.10it/s]\u001b[A\n",
      "100%|█████████▉| 276/277 [00:02<00:00, 165.51it/s]\u001b[A\n",
      " 10%|█         | 1/10 [00:02<00:18,  2.07s/it]\n",
      "  0%|          | 0/530 [00:00<?, ?it/s]\u001b[A\n",
      "  1%|▏         | 7/530 [00:00<00:07, 67.23it/s]\u001b[A"
     ]
    },
    {
     "name": "stdout",
     "output_type": "stream",
     "text": [
      " ##################################3 C is heree 0\n"
     ]
    },
    {
     "name": "stderr",
     "output_type": "stream",
     "text": [
      "\n",
      "  3%|▎         | 18/530 [00:00<00:06, 74.07it/s]\u001b[A\n",
      "  5%|▌         | 29/530 [00:00<00:06, 79.90it/s]\u001b[A\n",
      "  7%|▋         | 38/530 [00:00<00:05, 82.18it/s]\u001b[A\n",
      "  8%|▊         | 45/530 [00:00<00:06, 77.27it/s]\u001b[A\n",
      " 12%|█▏        | 62/530 [00:00<00:05, 86.05it/s]\u001b[A\n",
      " 14%|█▍        | 73/530 [00:00<00:05, 78.41it/s]\u001b[A\n",
      " 15%|█▌        | 81/530 [00:01<00:06, 66.11it/s]\u001b[A\n",
      " 17%|█▋        | 88/530 [00:01<00:07, 62.70it/s]\u001b[A\n",
      " 20%|██        | 107/530 [00:01<00:05, 76.81it/s]\u001b[A\n",
      " 22%|██▏       | 117/530 [00:01<00:07, 53.39it/s]\u001b[A\n",
      " 24%|██▍       | 126/530 [00:01<00:06, 60.39it/s]\u001b[A\n",
      " 25%|██▌       | 134/530 [00:01<00:08, 48.36it/s]\u001b[A\n",
      " 27%|██▋       | 141/530 [00:02<00:08, 46.96it/s]\u001b[A\n",
      " 28%|██▊       | 148/530 [00:02<00:08, 42.84it/s]\u001b[A\n",
      " 29%|██▉       | 156/530 [00:02<00:08, 43.35it/s]\u001b[A\n",
      " 34%|███▍      | 181/530 [00:02<00:06, 56.91it/s]\u001b[A\n",
      " 36%|███▋      | 193/530 [00:02<00:05, 65.51it/s]\u001b[A\n",
      " 38%|███▊      | 203/530 [00:02<00:05, 60.90it/s]\u001b[A\n",
      " 42%|████▏     | 222/530 [00:03<00:04, 72.88it/s]\u001b[A\n",
      " 44%|████▍     | 232/530 [00:03<00:03, 78.62it/s]\u001b[A\n",
      " 46%|████▌     | 244/530 [00:03<00:03, 79.30it/s]\u001b[A\n",
      " 48%|████▊     | 254/530 [00:03<00:03, 84.28it/s]\u001b[A\n",
      " 50%|████▉     | 264/530 [00:03<00:04, 64.64it/s]\u001b[A\n",
      " 52%|█████▏    | 277/530 [00:03<00:03, 67.82it/s]\u001b[A\n",
      " 55%|█████▍    | 291/530 [00:03<00:03, 78.23it/s]\u001b[A\n",
      " 57%|█████▋    | 303/530 [00:04<00:02, 76.13it/s]\u001b[A\n",
      " 59%|█████▉    | 314/530 [00:04<00:02, 72.56it/s]\u001b[A\n",
      " 61%|██████    | 322/530 [00:04<00:03, 55.83it/s]\u001b[A\n",
      " 62%|██████▏   | 330/530 [00:04<00:03, 50.30it/s]\u001b[A\n",
      " 65%|██████▌   | 346/530 [00:04<00:02, 62.22it/s]\u001b[A\n",
      " 67%|██████▋   | 355/530 [00:05<00:03, 52.63it/s]\u001b[A\n",
      " 69%|██████▉   | 368/530 [00:05<00:02, 63.38it/s]\u001b[A\n",
      " 72%|███████▏  | 380/530 [00:05<00:02, 73.74it/s]\u001b[A\n",
      " 74%|███████▍  | 394/530 [00:05<00:01, 77.09it/s]\u001b[A\n",
      " 76%|███████▌  | 404/530 [00:05<00:01, 74.30it/s]\u001b[A\n",
      " 78%|███████▊  | 415/530 [00:05<00:01, 81.38it/s]\u001b[A\n",
      " 82%|████████▏ | 432/530 [00:05<00:01, 93.96it/s]\u001b[A\n",
      " 84%|████████▎ | 443/530 [00:05<00:01, 71.66it/s]\u001b[A\n",
      " 85%|████████▌ | 452/530 [00:06<00:01, 74.87it/s]\u001b[A\n",
      " 90%|█████████ | 477/530 [00:06<00:00, 88.94it/s]\u001b[A\n",
      " 94%|█████████▍| 499/530 [00:06<00:00, 101.62it/s]\u001b[A\n",
      " 97%|█████████▋| 512/530 [00:06<00:00, 93.97it/s] \u001b[A\n",
      "100%|█████████▉| 528/530 [00:06<00:00, 106.10it/s]\u001b[A\n",
      " 20%|██        | 2/10 [00:08<00:27,  3.45s/it]\n",
      "  0%|          | 0/487 [00:00<?, ?it/s]\u001b[A\n",
      "  3%|▎         | 14/487 [00:00<00:03, 139.06it/s]\u001b[A"
     ]
    },
    {
     "name": "stdout",
     "output_type": "stream",
     "text": [
      " ##################################3 C is heree 0\n"
     ]
    },
    {
     "name": "stderr",
     "output_type": "stream",
     "text": [
      "\n",
      "  6%|▌         | 27/487 [00:00<00:03, 135.89it/s]\u001b[A\n",
      "  8%|▊         | 38/487 [00:00<00:03, 126.72it/s]\u001b[A\n",
      " 11%|█▏        | 55/487 [00:00<00:03, 137.06it/s]\u001b[A\n",
      " 14%|█▍        | 68/487 [00:00<00:03, 132.21it/s]\u001b[A\n",
      " 16%|█▋        | 80/487 [00:00<00:03, 117.14it/s]\u001b[A\n",
      " 19%|█▊        | 91/487 [00:00<00:03, 102.80it/s]\u001b[A\n",
      " 23%|██▎       | 110/487 [00:00<00:03, 119.06it/s]\u001b[A\n",
      " 26%|██▌       | 126/487 [00:00<00:02, 128.72it/s]\u001b[A\n",
      " 29%|██▊       | 140/487 [00:01<00:02, 120.78it/s]\u001b[A\n",
      " 32%|███▏      | 154/487 [00:01<00:02, 125.04it/s]\u001b[A\n",
      " 34%|███▍      | 167/487 [00:01<00:03, 95.53it/s] \u001b[A\n",
      " 37%|███▋      | 179/487 [00:01<00:03, 79.75it/s]\u001b[A\n",
      " 39%|███▉      | 189/487 [00:01<00:03, 81.99it/s]\u001b[A\n",
      " 43%|████▎     | 208/487 [00:01<00:02, 98.65it/s]\u001b[A\n",
      " 46%|████▌     | 224/487 [00:01<00:02, 110.63it/s]\u001b[A\n",
      " 49%|████▉     | 238/487 [00:02<00:02, 100.08it/s]\u001b[A\n",
      " 51%|█████▏    | 250/487 [00:02<00:02, 88.63it/s] \u001b[A\n",
      " 55%|█████▍    | 266/487 [00:02<00:02, 101.86it/s]\u001b[A\n",
      " 57%|█████▋    | 278/487 [00:02<00:01, 106.32it/s]\u001b[A\n",
      " 60%|██████    | 294/487 [00:02<00:01, 117.13it/s]\u001b[A\n",
      " 63%|██████▎   | 307/487 [00:02<00:01, 108.65it/s]\u001b[A\n",
      " 66%|██████▌   | 322/487 [00:02<00:01, 116.25it/s]\u001b[A\n",
      " 69%|██████▉   | 336/487 [00:02<00:01, 121.93it/s]\u001b[A\n",
      " 72%|███████▏  | 349/487 [00:03<00:01, 106.53it/s]\u001b[A\n",
      " 75%|███████▍  | 364/487 [00:03<00:01, 115.68it/s]\u001b[A\n",
      " 78%|███████▊  | 379/487 [00:03<00:00, 123.51it/s]\u001b[A\n",
      " 82%|████████▏ | 398/487 [00:03<00:00, 137.42it/s]\u001b[A\n",
      " 85%|████████▍ | 413/487 [00:03<00:00, 130.64it/s]\u001b[A\n",
      " 89%|████████▊ | 431/487 [00:03<00:00, 141.07it/s]\u001b[A\n",
      " 92%|█████████▏| 446/487 [00:03<00:00, 143.29it/s]\u001b[A\n",
      " 95%|█████████▍| 461/487 [00:03<00:00, 128.77it/s]\u001b[A\n",
      " 98%|█████████▊| 475/487 [00:04<00:00, 124.67it/s]\u001b[A\n",
      " 30%|███       | 3/10 [00:12<00:25,  3.64s/it]\n",
      "  0%|          | 0/588 [00:00<?, ?it/s]\u001b[A\n",
      "  5%|▌         | 31/588 [00:00<00:01, 301.81it/s]\u001b[A"
     ]
    },
    {
     "name": "stdout",
     "output_type": "stream",
     "text": [
      " ##################################3 C is heree 0\n"
     ]
    },
    {
     "name": "stderr",
     "output_type": "stream",
     "text": [
      "\n",
      "  8%|▊         | 47/588 [00:00<00:02, 210.55it/s]\u001b[A\n",
      " 10%|▉         | 58/588 [00:00<00:03, 162.76it/s]\u001b[A\n",
      " 12%|█▏        | 72/588 [00:00<00:03, 145.40it/s]\u001b[A\n",
      " 15%|█▌        | 91/588 [00:00<00:03, 151.24it/s]\u001b[A\n",
      " 18%|█▊        | 104/588 [00:00<00:03, 134.49it/s]\u001b[A\n",
      " 20%|█▉        | 116/588 [00:00<00:04, 115.51it/s]\u001b[A\n",
      " 24%|██▍       | 142/588 [00:00<00:03, 135.07it/s]\u001b[A\n",
      " 29%|██▉       | 170/588 [00:01<00:02, 159.56it/s]\u001b[A\n",
      " 32%|███▏      | 189/588 [00:01<00:02, 161.73it/s]\u001b[A\n",
      " 35%|███▌      | 207/588 [00:01<00:02, 161.27it/s]\u001b[A\n",
      " 39%|███▊      | 227/588 [00:01<00:02, 168.19it/s]\u001b[A\n",
      " 43%|████▎     | 251/588 [00:01<00:01, 179.97it/s]\u001b[A\n",
      " 46%|████▌     | 270/588 [00:01<00:02, 153.40it/s]\u001b[A\n",
      " 50%|████▉     | 293/588 [00:01<00:01, 169.29it/s]\u001b[A\n",
      " 53%|█████▎    | 312/588 [00:01<00:01, 157.58it/s]\u001b[A\n",
      " 56%|█████▌    | 329/588 [00:02<00:01, 150.02it/s]\u001b[A\n",
      " 59%|█████▊    | 345/588 [00:02<00:01, 146.34it/s]\u001b[A\n",
      " 61%|██████▏   | 361/588 [00:02<00:01, 137.48it/s]\u001b[A\n",
      " 64%|██████▍   | 376/588 [00:02<00:01, 126.97it/s]\u001b[A\n",
      " 68%|██████▊   | 398/588 [00:02<00:01, 143.71it/s]\u001b[A\n",
      " 71%|███████   | 418/588 [00:02<00:01, 156.29it/s]\u001b[A\n",
      " 77%|███████▋  | 450/588 [00:02<00:00, 181.98it/s]\u001b[A\n",
      " 80%|████████  | 473/588 [00:02<00:00, 165.63it/s]\u001b[A\n",
      " 84%|████████▎ | 492/588 [00:03<00:00, 152.56it/s]\u001b[A\n",
      " 87%|████████▋ | 509/588 [00:03<00:00, 117.46it/s]\u001b[A\n",
      " 89%|████████▉ | 525/588 [00:03<00:00, 126.43it/s]\u001b[A\n",
      " 92%|█████████▏| 541/588 [00:03<00:00, 134.68it/s]\u001b[A\n",
      " 96%|█████████▌| 562/588 [00:03<00:00, 125.56it/s]\u001b[A\n",
      " 98%|█████████▊| 576/588 [00:03<00:00, 104.24it/s]\u001b[A\n",
      "100%|██████████| 588/588 [00:04<00:00, 71.57it/s] \u001b[A\n",
      " 40%|████      | 4/10 [00:16<00:22,  3.80s/it]\n",
      "  0%|          | 0/324 [00:00<?, ?it/s]\u001b[A\n",
      "  8%|▊         | 25/324 [00:00<00:01, 240.10it/s]\u001b[A"
     ]
    },
    {
     "name": "stdout",
     "output_type": "stream",
     "text": [
      " ##################################3 C is heree 0\n"
     ]
    },
    {
     "name": "stderr",
     "output_type": "stream",
     "text": [
      "\n",
      " 13%|█▎        | 42/324 [00:00<00:01, 212.84it/s]\u001b[A\n",
      " 19%|█▉        | 61/324 [00:00<00:01, 202.14it/s]\u001b[A\n",
      " 25%|██▍       | 80/324 [00:00<00:01, 195.95it/s]\u001b[A\n",
      " 30%|███       | 98/324 [00:00<00:01, 185.97it/s]\u001b[A\n",
      " 36%|███▌      | 117/324 [00:00<00:01, 185.16it/s]\u001b[A\n",
      " 42%|████▏     | 137/324 [00:00<00:01, 169.86it/s]\u001b[A\n",
      " 47%|████▋     | 153/324 [00:00<00:01, 144.08it/s]\u001b[A\n",
      " 52%|█████▏    | 168/324 [00:01<00:01, 140.29it/s]\u001b[A\n",
      " 57%|█████▋    | 185/324 [00:01<00:00, 148.03it/s]\u001b[A\n",
      " 63%|██████▎   | 203/324 [00:01<00:00, 154.24it/s]\u001b[A\n",
      " 69%|██████▉   | 224/324 [00:01<00:00, 166.49it/s]\u001b[A\n",
      " 74%|███████▍  | 241/324 [00:01<00:00, 167.26it/s]\u001b[A\n",
      " 80%|███████▉  | 258/324 [00:01<00:00, 145.23it/s]\u001b[A\n",
      " 86%|████████▌ | 279/324 [00:01<00:00, 159.87it/s]\u001b[A\n",
      " 92%|█████████▏| 297/324 [00:01<00:00, 164.81it/s]\u001b[A\n",
      " 97%|█████████▋| 315/324 [00:01<00:00, 154.82it/s]\u001b[A\n",
      " 50%|█████     | 5/10 [00:18<00:16,  3.25s/it]\n",
      "  0%|          | 0/411 [00:00<?, ?it/s]\u001b[A\n",
      "  3%|▎         | 11/411 [00:00<00:04, 81.12it/s]\u001b[A"
     ]
    },
    {
     "name": "stdout",
     "output_type": "stream",
     "text": [
      " ##################################3 C is heree 0\n"
     ]
    },
    {
     "name": "stderr",
     "output_type": "stream",
     "text": [
      "\n",
      "  8%|▊         | 34/411 [00:00<00:03, 100.41it/s]\u001b[A\n",
      " 10%|█         | 43/411 [00:00<00:04, 91.81it/s] \u001b[A\n",
      " 15%|█▌        | 62/411 [00:00<00:03, 108.03it/s]\u001b[A\n",
      " 19%|█▉        | 80/411 [00:00<00:02, 122.48it/s]\u001b[A\n",
      " 23%|██▎       | 94/411 [00:00<00:02, 121.15it/s]\u001b[A\n",
      " 28%|██▊       | 117/411 [00:00<00:02, 140.29it/s]\u001b[A\n",
      " 33%|███▎      | 137/411 [00:00<00:01, 153.70it/s]\u001b[A\n",
      " 39%|███▊      | 159/411 [00:00<00:01, 165.39it/s]\u001b[A\n",
      " 45%|████▍     | 184/411 [00:01<00:01, 181.35it/s]\u001b[A\n",
      " 50%|████▉     | 204/411 [00:01<00:01, 178.16it/s]\u001b[A\n",
      " 55%|█████▌    | 228/411 [00:01<00:00, 190.63it/s]\u001b[A\n",
      " 61%|██████    | 251/411 [00:01<00:00, 200.33it/s]\u001b[A\n",
      " 66%|██████▌   | 272/411 [00:01<00:00, 169.15it/s]\u001b[A\n",
      " 71%|███████   | 291/411 [00:01<00:00, 166.93it/s]\u001b[A\n",
      " 75%|███████▌  | 309/411 [00:01<00:00, 170.06it/s]\u001b[A\n",
      " 80%|███████▉  | 327/411 [00:01<00:00, 152.90it/s]\u001b[A\n",
      " 84%|████████▍ | 346/411 [00:02<00:00, 160.93it/s]\u001b[A\n",
      " 89%|████████▉ | 366/411 [00:02<00:00, 166.30it/s]\u001b[A\n",
      " 93%|█████████▎| 384/411 [00:02<00:00, 134.20it/s]\u001b[A\n",
      "100%|██████████| 411/411 [00:02<00:00, 157.27it/s]\u001b[A\n",
      " 60%|██████    | 6/10 [00:21<00:12,  3.02s/it]\n",
      "  0%|          | 0/115 [00:00<?, ?it/s]\u001b[A\n",
      " 18%|█▊        | 21/115 [00:00<00:00, 205.93it/s]\u001b[A"
     ]
    },
    {
     "name": "stdout",
     "output_type": "stream",
     "text": [
      " ##################################3 C is heree 0\n"
     ]
    },
    {
     "name": "stderr",
     "output_type": "stream",
     "text": [
      "\n",
      " 33%|███▎      | 38/115 [00:00<00:00, 190.29it/s]\u001b[A\n",
      " 51%|█████▏    | 59/115 [00:00<00:00, 194.94it/s]\u001b[A\n",
      " 72%|███████▏  | 83/115 [00:00<00:00, 205.37it/s]\u001b[A\n",
      " 94%|█████████▍| 108/115 [00:00<00:00, 214.34it/s]\u001b[A\n",
      " 70%|███████   | 7/10 [00:22<00:06,  2.28s/it]\n",
      "  0%|          | 0/140 [00:00<?, ?it/s]\u001b[A\n",
      " 14%|█▍        | 20/140 [00:00<00:00, 195.36it/s]\u001b[A"
     ]
    },
    {
     "name": "stdout",
     "output_type": "stream",
     "text": [
      " ##################################3 C is heree 0\n"
     ]
    },
    {
     "name": "stderr",
     "output_type": "stream",
     "text": [
      "\n",
      " 25%|██▌       | 35/140 [00:00<00:00, 175.33it/s]\u001b[A\n",
      " 38%|███▊      | 53/140 [00:00<00:00, 174.32it/s]\u001b[A\n",
      " 54%|█████▍    | 76/140 [00:00<00:00, 185.67it/s]\u001b[A\n",
      " 69%|██████▊   | 96/140 [00:00<00:00, 188.94it/s]\u001b[A\n",
      " 80%|████████  | 112/140 [00:00<00:00, 161.69it/s]\u001b[A\n",
      " 95%|█████████▌| 133/140 [00:00<00:00, 173.02it/s]\u001b[A\n",
      " 80%|████████  | 8/10 [00:22<00:03,  1.84s/it]\n",
      "  0%|          | 0/185 [00:00<?, ?it/s]\u001b[A\n",
      "  5%|▍         | 9/185 [00:00<00:03, 49.34it/s]\u001b[A"
     ]
    },
    {
     "name": "stdout",
     "output_type": "stream",
     "text": [
      " ##################################3 C is heree 1\n"
     ]
    },
    {
     "name": "stderr",
     "output_type": "stream",
     "text": [
      "\n",
      " 17%|█▋        | 32/185 [00:00<00:02, 64.34it/s]\u001b[A\n",
      " 24%|██▍       | 44/185 [00:00<00:01, 74.58it/s]\u001b[A\n",
      " 34%|███▎      | 62/185 [00:00<00:01, 83.86it/s]\u001b[A\n",
      " 47%|████▋     | 87/185 [00:00<00:00, 102.38it/s]\u001b[A\n",
      " 57%|█████▋    | 106/185 [00:00<00:00, 118.11it/s]\u001b[A\n",
      " 70%|██████▉   | 129/185 [00:00<00:00, 137.98it/s]\u001b[A\n",
      " 79%|███████▉  | 147/185 [00:01<00:00, 116.48it/s]\u001b[A\n",
      " 88%|████████▊ | 162/185 [00:01<00:00, 104.29it/s]\u001b[A\n",
      " 90%|█████████ | 9/10 [00:24<00:01,  1.70s/it]\n",
      "  0%|          | 0/81 [00:00<?, ?it/s]\u001b[A\n",
      " 28%|██▊       | 23/81 [00:00<00:00, 221.98it/s]\u001b[A"
     ]
    },
    {
     "name": "stdout",
     "output_type": "stream",
     "text": [
      " ##################################3 C is heree 0\n"
     ]
    },
    {
     "name": "stderr",
     "output_type": "stream",
     "text": [
      "\n",
      " 62%|██████▏   | 50/81 [00:00<00:00, 233.68it/s]\u001b[A\n",
      " 81%|████████▏ | 66/81 [00:00<00:00, 205.13it/s]\u001b[A\n",
      "100%|██████████| 81/81 [00:00<00:00, 177.03it/s]\u001b[A\n",
      "100%|██████████| 10/10 [00:24<00:00,  1.31s/it]"
     ]
    },
    {
     "name": "stdout",
     "output_type": "stream",
     "text": [
      " ##################################3 C is heree 0\n",
      "3137\n"
     ]
    },
    {
     "name": "stderr",
     "output_type": "stream",
     "text": [
      "\n"
     ]
    }
   ],
   "source": [
    "TRAIN_DIR = '/content/train/train'\n",
    "TEST_DIR = '/content/test/test'\n",
    "IMG_SIZE = 331\n",
    "LR = 0.001\n",
    "MODEL_NAME = \"Competition_CNN_model\"\n",
    "\n",
    "def create_label(folder_name):\n",
    "    \"\"\" Create an one-hot encoded vector from image name \"\"\"\n",
    "    #word_label = image_name.split('.')[-3]\n",
    "\n",
    "    if folder_name == 'airport_inside':\n",
    "        return np.array([1,0,0,0,0,0,0,0,0,0])\n",
    "    elif folder_name == 'bakery':\n",
    "        return np.array([0, 1, 0, 0, 0, 0, 0, 0, 0, 0])\n",
    "    elif folder_name == 'bedroom':\n",
    "        return np.array([0, 0, 1, 0, 0, 0, 0, 0, 0, 0])\n",
    "    elif folder_name == 'greenhouse':\n",
    "        return np.array([0, 0, 0, 1, 0, 0, 0, 0, 0, 0])\n",
    "    elif folder_name == 'gym':\n",
    "        return np.array([0, 0, 0, 0, 1, 0, 0, 0, 0, 0])\n",
    "    elif folder_name == 'kitchen' :\n",
    "        return np.array([0, 0, 0, 0, 0, 1, 0, 0, 0, 0])\n",
    "    elif folder_name == 'operating_room' :\n",
    "        return np.array([0, 0, 0, 0, 0, 0, 1, 0, 0, 0])\n",
    "    elif folder_name == 'poolinside' :\n",
    "        return np.array([0, 0, 0, 0, 0, 0, 0, 1, 0, 0])\n",
    "    elif folder_name == 'restaurant' :\n",
    "        return np.array([0, 0, 0, 0, 0, 0, 0, 0, 1, 0])\n",
    "    elif folder_name == 'toystore' :\n",
    "        return np.array([0, 0, 0, 0, 0, 0, 0, 0, 0, 1])\n",
    "\n",
    "\n",
    "def create_train_data():\n",
    "    training_data = []\n",
    "    for folder in tqdm(os.listdir(TRAIN_DIR)):\n",
    "        path_folder = os.path.join(TRAIN_DIR, folder)\n",
    "        c=0 \n",
    "        for image in tqdm (os.listdir(path_folder)):\n",
    "            path = os.path.join(path_folder, image)\n",
    "            img_data = cv2.imread(path)\n",
    "            if img_data is not None :\n",
    "              #img_data = resize(img_data , (IMG_SIZE, IMG_SIZE))\n",
    "              \n",
    "              img_data = cv2.resize(img_data, (IMG_SIZE, IMG_SIZE))\n",
    "              training_data.append([np.array(img_data), create_label(folder)])\n",
    "\n",
    "              #transformed_image = datagen.random_transform(img_data)\n",
    "              #training_data.append([np.array(transformed_image), create_label(folder)])\n",
    "              #transformed_image = datagen.random_transform(img_data)\n",
    "              #training_data.append([np.array(transformed_image), create_label(folder)])\n",
    "\n",
    "              #if folder == \"gym\" or folder ==\"operating_room\" or folder == \"poolinside\" or folder == \"greenhouse\" or folder == \"poolinside\" :\n",
    "                #transformed_image = datagen.random_transform(img_data)\n",
    "                #training_data.append([np.array(transformed_image), create_label(folder)])\n",
    "              \n",
    "              #print (create_label(folder))\n",
    "            else : \n",
    "              c=c+1\n",
    "        print (\" ##################################3 C is heree \" + str (c))\n",
    "\n",
    "    shuffle(training_data)\n",
    "    #np.save('train_data.npy', training_data)\n",
    "    return training_data\n",
    "\n",
    "train_data =[]\n",
    "train_data =  create_train_data()\n",
    "print (len(train_data))\n",
    "\n"
   ]
  },
  {
   "cell_type": "code",
   "execution_count": 0,
   "metadata": {
    "id": "tZQlBE_XsU8X",
    "colab_type": "code",
    "colab": {}
   },
   "outputs": [],
   "source": [
    "X_train = np.array ([i[0] for i in train_data]).reshape(-1 , IMG_SIZE , IMG_SIZE ,3) \n",
    "\n",
    "Y_train = np.array ([i[1] for i in train_data] )\n",
    "\n"
   ]
  },
  {
   "cell_type": "markdown",
   "metadata": {
    "id": "bNJUO2I5JnjV",
    "colab_type": "text"
   },
   "source": [
    "prepare testing Data"
   ]
  },
  {
   "cell_type": "code",
   "execution_count": 7,
   "metadata": {
    "id": "ch2MKczaJm8W",
    "colab_type": "code",
    "outputId": "e2258b99-8ac1-456f-97f3-298872119b98",
    "executionInfo": {
     "status": "ok",
     "timestamp": 1.577183838617E12,
     "user_tz": -120.0,
     "elapsed": 8072.0,
     "user": {
      "displayName": "Wael Mohamed",
      "photoUrl": "https://lh3.googleusercontent.com/a-/AAuE7mCd3pHVlEXQwIlbIVMUDu5jLf6mEzYj5dBuP6Va=s64",
      "userId": "16989765338276138215"
     }
    },
    "colab": {
     "base_uri": "https://localhost:8080/",
     "height": 51.0
    }
   },
   "outputs": [
    {
     "name": "stderr",
     "output_type": "stream",
     "text": [
      " 87%|████████▋ | 674/772 [00:06<00:01, 51.06it/s]"
     ]
    },
    {
     "name": "stdout",
     "output_type": "stream",
     "text": [
      "(331, 331, 3)\n"
     ]
    },
    {
     "name": "stderr",
     "output_type": "stream",
     "text": [
      "100%|██████████| 772/772 [00:07<00:00, 103.07it/s]\n"
     ]
    }
   ],
   "source": [
    "def create_test_data ():\n",
    "    testing_data = []\n",
    "    testing_imgs_IDs = []\n",
    "    for img in tqdm(os.listdir(TEST_DIR)):\n",
    "        img_path = os.path.join(TEST_DIR , img)\n",
    "        img_data = cv2.imread(img_path)\n",
    "        #img_data = resize(img_data, (IMG_SIZE, IMG_SIZE))\n",
    "        if img_data is not None :\n",
    "          img_data = cv2.resize(img_data, (IMG_SIZE, IMG_SIZE))\n",
    "          testing_data.append( [np.array(img_data)] )\n",
    "          testing_imgs_IDs .append([img])\n",
    "        else : \n",
    "          img_data = io.imread(img_path)\n",
    "          img_data = cv2.resize(img_data, (IMG_SIZE, IMG_SIZE))\n",
    "          #img_data = resize(img_data, (IMG_SIZE, IMG_SIZE))\n",
    "          img_data = np.repeat(img_data[:, :, np.newaxis], 3, axis=2) # solution to expand dimension \n",
    "          print (img_data.shape)\n",
    "          testing_data.append( [np.array(img_data)] )\n",
    "          testing_imgs_IDs .append([img])\n",
    "\n",
    "    return testing_data , testing_imgs_IDs \n",
    "testing_data =[]\n",
    "testing_imgs_IDs =[]\n",
    "testing_data , testing_imgs_IDs =  create_test_data()\n",
    "\n"
   ]
  },
  {
   "cell_type": "code",
   "execution_count": 0,
   "metadata": {
    "id": "8savHYGjKDoV",
    "colab_type": "code",
    "colab": {}
   },
   "outputs": [],
   "source": [
    "X_test= np.array ([i[0] for i in testing_data]).reshape(-1 , IMG_SIZE , IMG_SIZE , 3 )\n",
    " # i of col 0 get all rows \n",
    " "
   ]
  },
  {
   "cell_type": "code",
   "execution_count": 0,
   "metadata": {
    "id": "1bEkqVS9uV86",
    "colab_type": "code",
    "colab": {}
   },
   "outputs": [],
   "source": [
    "!unzip \"/content/drive/My Drive/Semester1Tasks/Validate.zip\""
   ]
  },
  {
   "cell_type": "markdown",
   "metadata": {
    "id": "f2uctugZ2xSN",
    "colab_type": "text"
   },
   "source": [
    "Validation Data \n"
   ]
  },
  {
   "cell_type": "code",
   "execution_count": 12,
   "metadata": {
    "id": "2cpa-64P20LN",
    "colab_type": "code",
    "outputId": "52c98f49-6607-4da9-8b8d-02d5c8dfaa90",
    "executionInfo": {
     "status": "ok",
     "timestamp": 1.577183917388E12,
     "user_tz": -120.0,
     "elapsed": 2870.0,
     "user": {
      "displayName": "Wael Mohamed",
      "photoUrl": "https://lh3.googleusercontent.com/a-/AAuE7mCd3pHVlEXQwIlbIVMUDu5jLf6mEzYj5dBuP6Va=s64",
      "userId": "16989765338276138215"
     }
    },
    "colab": {
     "base_uri": "https://localhost:8080/",
     "height": 595.0
    }
   },
   "outputs": [
    {
     "name": "stderr",
     "output_type": "stream",
     "text": [
      "  0%|          | 0/10 [00:00<?, ?it/s]\n",
      "  0%|          | 0/14 [00:00<?, ?it/s]\u001b[A\n",
      " 71%|███████▏  | 10/14 [00:00<00:00, 45.75it/s]\u001b[A\n",
      " 10%|█         | 1/10 [00:00<00:02,  4.01it/s]\n",
      "  0%|          | 0/15 [00:00<?, ?it/s]\u001b[A\n",
      "100%|██████████| 15/15 [00:00<00:00, 219.36it/s]\u001b[A\n",
      "  0%|          | 0/50 [00:00<?, ?it/s]\u001b[A\n",
      " 18%|█▊        | 9/50 [00:00<00:00, 88.61it/s]\u001b[A\n",
      " 24%|██▍       | 12/50 [00:00<00:01, 30.98it/s]\u001b[A\n",
      " 60%|██████    | 30/50 [00:00<00:00, 41.16it/s]\u001b[A\n",
      " 98%|█████████▊| 49/50 [00:00<00:00, 53.43it/s]\u001b[A\n",
      " 30%|███       | 3/10 [00:00<00:01,  3.66it/s]\n",
      "  0%|          | 0/18 [00:00<?, ?it/s]\u001b[A\n",
      " 17%|█▋        | 3/18 [00:00<00:00, 27.11it/s]\u001b[A\n",
      " 72%|███████▏  | 13/18 [00:00<00:00, 34.09it/s]\u001b[A\n",
      " 40%|████      | 4/10 [00:01<00:01,  3.74it/s]\n",
      "  0%|          | 0/23 [00:00<?, ?it/s]\u001b[A\n",
      " 78%|███████▊  | 18/23 [00:00<00:00, 175.89it/s]\u001b[A\n",
      " 50%|█████     | 5/10 [00:01<00:01,  4.37it/s]\n",
      "  0%|          | 0/50 [00:00<?, ?it/s]\u001b[A\n",
      " 14%|█▍        | 7/50 [00:00<00:01, 38.03it/s]\u001b[A\n",
      " 50%|█████     | 25/50 [00:00<00:00, 49.78it/s]\u001b[A\n",
      " 92%|█████████▏| 46/50 [00:00<00:00, 64.40it/s]\u001b[A\n",
      " 60%|██████    | 6/10 [00:01<00:01,  3.51it/s]\n",
      "  0%|          | 0/9 [00:00<?, ?it/s]\u001b[A\n",
      "100%|██████████| 9/9 [00:00<00:00, 205.21it/s]\u001b[A\n",
      "  0%|          | 0/17 [00:00<?, ?it/s]\u001b[A\n",
      " 80%|████████  | 8/10 [00:01<00:00,  4.54it/s]\n",
      "  0%|          | 0/18 [00:00<?, ?it/s]\u001b[A\n",
      " 11%|█         | 2/18 [00:00<00:00, 18.10it/s]\u001b[A\n",
      " 90%|█████████ | 9/10 [00:02<00:00,  4.58it/s]\n",
      "  0%|          | 0/12 [00:00<?, ?it/s]\u001b[A\n",
      "100%|██████████| 10/10 [00:02<00:00,  4.66it/s]\n"
     ]
    },
    {
     "name": "stdout",
     "output_type": "stream",
     "text": [
      "(226, 331, 331, 3)\n"
     ]
    }
   ],
   "source": [
    "#!unzip \"/content/drive/My Drive/Semester1Tasks/Validate.zip\"\n",
    "VALIDATE_DIR = '/content/Validate'\n",
    "def create_validate_data():\n",
    "    validate_data = []\n",
    "    for folder in tqdm(os.listdir(VALIDATE_DIR)):\n",
    "        path_folder = os.path.join(VALIDATE_DIR, folder)\n",
    "\n",
    "        for image in tqdm (os.listdir(path_folder)):\n",
    "            path = os.path.join(path_folder, image)\n",
    "            img_data = cv2.imread(path)\n",
    "            if img_data is not None :\n",
    "              #img_data = resize(img_data , (IMG_SIZE, IMG_SIZE))\n",
    "              img_data = cv2.resize(img_data, (IMG_SIZE, IMG_SIZE))\n",
    "              validate_data.append([np.array(img_data), create_label(folder)])\n",
    "              \n",
    "              #print (create_label(folder))\n",
    "            else : \n",
    "              print (\" ##################################3 C is heree \" )\n",
    "\n",
    "    \n",
    "    return validate_data\n",
    "\n",
    "validate_data = []\n",
    "validate_data = create_validate_data()\n",
    "\n",
    "X_Validate = np.array ([i[0] for i in validate_data]).reshape(-1 , IMG_SIZE , IMG_SIZE ,3) \n",
    "Y_Validate = np.array ([i[1] for i in validate_data] )\n",
    "\n",
    "print (X_Validate.shape)\n",
    "\n",
    "\n"
   ]
  },
  {
   "cell_type": "markdown",
   "metadata": {
    "id": "iC2jzGTMwX7k",
    "colab_type": "text"
   },
   "source": [
    "VGG16 Model"
   ]
  },
  {
   "cell_type": "code",
   "execution_count": 0,
   "metadata": {
    "id": "ZHgy0R7KwdCM",
    "colab_type": "code",
    "colab": {}
   },
   "outputs": [],
   "source": [
    "VGG16_model = vgg16.VGG16(include_top=False\n",
    "                           , weights='imagenet',\n",
    "                            input_shape=(IMG_SIZE,IMG_SIZE,3),\n",
    "                            pooling='avg', \n",
    "                           classes=1000)\n",
    "for layer in VGG16_model.layers[:-4]:\n",
    "    layer.trainable = False\n",
    "#top_features_vgg16 =  VGG16_model.predict(X_train)\n",
    "print (BD)\n"
   ]
  },
  {
   "cell_type": "markdown",
   "metadata": {
    "id": "2IwTfSz0S2x4",
    "colab_type": "text"
   },
   "source": [
    "VGG 19 Model\n"
   ]
  },
  {
   "cell_type": "code",
   "execution_count": 0,
   "metadata": {
    "id": "lOMDfJxJS42Y",
    "colab_type": "code",
    "colab": {}
   },
   "outputs": [],
   "source": [
    "vgg19_model = vgg19.VGG19(include_top=False\n",
    "                          , weights='imagenet',\n",
    "                          input_shape=(224,224,3),\n",
    "                          pooling='avg')\n",
    "top_features_vgg19 =  vgg19_model.predict(X_train)\n",
    "\n",
    "print (BD)"
   ]
  },
  {
   "cell_type": "markdown",
   "metadata": {
    "id": "P2llKXKVIxNW",
    "colab_type": "text"
   },
   "source": [
    "Resnet\n",
    "\n"
   ]
  },
  {
   "cell_type": "code",
   "execution_count": 0,
   "metadata": {
    "id": "sPq_BV2pI0Hq",
    "colab_type": "code",
    "outputId": "cb1fc9e7-8de5-4576-ae4f-ea3b36734e1b",
    "executionInfo": {
     "status": "ok",
     "timestamp": 1.577134689038E12,
     "user_tz": -120.0,
     "elapsed": 383885.0,
     "user": {
      "displayName": "Gehad Khaled",
      "photoUrl": "https://lh3.googleusercontent.com/a-/AAuE7mCN2B6cZoY9qF23IVlFPxtDD9xK2swDQq8IWPBa6g=s64",
      "userId": "16965718187253442357"
     }
    },
    "colab": {
     "base_uri": "https://localhost:8080/",
     "height": 479.0
    }
   },
   "outputs": [
    {
     "name": "stdout",
     "output_type": "stream",
     "text": [
      "WARNING:tensorflow:From /usr/local/lib/python3.6/dist-packages/keras/backend/tensorflow_backend.py:66: The name tf.get_default_graph is deprecated. Please use tf.compat.v1.get_default_graph instead.\n",
      "\n",
      "WARNING:tensorflow:From /usr/local/lib/python3.6/dist-packages/keras/backend/tensorflow_backend.py:541: The name tf.placeholder is deprecated. Please use tf.compat.v1.placeholder instead.\n",
      "\n",
      "WARNING:tensorflow:From /usr/local/lib/python3.6/dist-packages/keras/backend/tensorflow_backend.py:4432: The name tf.random_uniform is deprecated. Please use tf.random.uniform instead.\n",
      "\n",
      "WARNING:tensorflow:From /usr/local/lib/python3.6/dist-packages/keras/backend/tensorflow_backend.py:190: The name tf.get_default_session is deprecated. Please use tf.compat.v1.get_default_session instead.\n",
      "\n",
      "WARNING:tensorflow:From /usr/local/lib/python3.6/dist-packages/keras/backend/tensorflow_backend.py:197: The name tf.ConfigProto is deprecated. Please use tf.compat.v1.ConfigProto instead.\n",
      "\n",
      "WARNING:tensorflow:From /usr/local/lib/python3.6/dist-packages/keras/backend/tensorflow_backend.py:203: The name tf.Session is deprecated. Please use tf.compat.v1.Session instead.\n",
      "\n",
      "WARNING:tensorflow:From /usr/local/lib/python3.6/dist-packages/keras/backend/tensorflow_backend.py:207: The name tf.global_variables is deprecated. Please use tf.compat.v1.global_variables instead.\n",
      "\n",
      "WARNING:tensorflow:From /usr/local/lib/python3.6/dist-packages/keras/backend/tensorflow_backend.py:216: The name tf.is_variable_initialized is deprecated. Please use tf.compat.v1.is_variable_initialized instead.\n",
      "\n",
      "WARNING:tensorflow:From /usr/local/lib/python3.6/dist-packages/keras/backend/tensorflow_backend.py:223: The name tf.variables_initializer is deprecated. Please use tf.compat.v1.variables_initializer instead.\n",
      "\n",
      "WARNING:tensorflow:From /usr/local/lib/python3.6/dist-packages/keras/backend/tensorflow_backend.py:2041: The name tf.nn.fused_batch_norm is deprecated. Please use tf.compat.v1.nn.fused_batch_norm instead.\n",
      "\n",
      "WARNING:tensorflow:From /usr/local/lib/python3.6/dist-packages/keras/backend/tensorflow_backend.py:148: The name tf.placeholder_with_default is deprecated. Please use tf.compat.v1.placeholder_with_default instead.\n",
      "\n",
      "WARNING:tensorflow:From /usr/local/lib/python3.6/dist-packages/keras/backend/tensorflow_backend.py:4267: The name tf.nn.max_pool is deprecated. Please use tf.nn.max_pool2d instead.\n",
      "\n",
      "Downloading data from https://github.com/keras-team/keras-applications/releases/download/resnet/resnet152_weights_tf_dim_ordering_tf_kernels_notop.h5\n",
      "234700800/234698864 [==============================] - 3s 0us/step\n"
     ]
    }
   ],
   "source": [
    "Resnet_model = resnet.ResNet152(include_top=False,\n",
    "                                     weights='imagenet', \n",
    "                                     pooling = 'avg'\n",
    "                                     )\n",
    "#for layer in Resnet_model.layers[:-4]:\n",
    "#    layer.trainable = False\n",
    "\n",
    "#for layer in Resnet_model.layers :\n",
    "#  print (layer , layer.trainable)\n",
    "\n",
    "top_features_Resnet = Resnet_model.predict(X_train)\n",
    "\n",
    "Resnet_model.summary()\n",
    "print (top_features_Resnet.shape)"
   ]
  },
  {
   "cell_type": "markdown",
   "metadata": {
    "id": "F9XVIC6KKdsY",
    "colab_type": "text"
   },
   "source": [
    "Inception V3\n"
   ]
  },
  {
   "cell_type": "code",
   "execution_count": 0,
   "metadata": {
    "id": "aF_b-o18KhhY",
    "colab_type": "code",
    "colab": {}
   },
   "outputs": [],
   "source": [
    "'''\n",
    "Inception_model = inception_v3.InceptionV3(include_top=False,\n",
    "                                           weights='imagenet', \n",
    "                                            pooling='avg')\n",
    "#top_features_InceptionV3 = Inception_model.predict (X_train)\n",
    "\n",
    "InceptioRes = inception_resnet_v2.InceptionResNetV2(include_top=False, weights='imagenet',\n",
    "                                                     pooling='avg')\n",
    "#top_features_InceptionV3 = InceptioRes.predict(X_train)\n",
    "'''\n",
    "seen = nasnet.NASNetLarge(include_top=False,\n",
    "                          weights='imagenet', input_tensor=None, pooling='avg', classes=1000)\n",
    "top_features_InceptionV3=seen.predict(X_train)\n"
   ]
  },
  {
   "cell_type": "markdown",
   "metadata": {
    "id": "_RNp7stdxaRr",
    "colab_type": "text"
   },
   "source": [
    "Xception Model"
   ]
  },
  {
   "cell_type": "code",
   "execution_count": 0,
   "metadata": {
    "id": "NQik0JZ7xcqX",
    "colab_type": "code",
    "colab": {}
   },
   "outputs": [],
   "source": [
    "Xception_model = xception.Xception(include_top=False,\n",
    "                                   weights='imagenet',\n",
    "                                   input_shape=(299,299,3),\n",
    "                                   pooling='avg' \n",
    "                                   )\n",
    "top_features_Xception = Xception_model.predict(X_train)\n",
    "\n",
    "print (BD)"
   ]
  },
  {
   "cell_type": "markdown",
   "metadata": {
    "id": "ir3MR-a57-QP",
    "colab_type": "text"
   },
   "source": [
    "Sequential Model "
   ]
  },
  {
   "cell_type": "code",
   "execution_count": 0,
   "metadata": {
    "id": "I-EhFTCk26Df",
    "colab_type": "code",
    "colab": {}
   },
   "outputs": [],
   "source": [
    "#first hierarchy Dense 512 , dense 512 , dense 256 , dense 128 , out >> 86 with vgg16\n",
    "\n",
    "model = Sequential ()\n",
    "#model.add (InputLayer (input_shape=(2048,))) #for VGG \n",
    "\n",
    "#model.add (InputLayer (input_shape=(2048,))) #for Xception  & Resnet \n",
    "\n",
    "#2nd hierarchu dense 4096 droppout 0.8 , dense 512 , dropout 0.8 , out  \n",
    "#best accurecy for Vgg 16 \n",
    "\n",
    "model.add(VGG16_model)\n",
    "#model.add(Flatten())\n",
    "\n",
    "model.add(Dense (1024)) \n",
    "model.add (Activation (activation='relu'))\n",
    "model.add(Dropout(0.8))\n",
    "\n",
    "model.add(Dense(1024)) \n",
    "model.add (Activation (activation= 'relu'))\n",
    "model.add(Dropout(0.8))\n",
    "\n",
    "'''\n",
    "#model.add(Dense(16384)) \n",
    "#model.add (Activation (activation= 'relu'))\n",
    "#model.add(Dropout(0.6))\n",
    "\n",
    "\n",
    "model.add(Dense(8192)) \n",
    "model.add (Activation (activation= 'relu'))\n",
    "\n",
    "\n",
    "model.add(Dense(4096)) \n",
    "model.add (Activation (activation= 'relu'))\n",
    "#model.add(Dropout(0.6))\n",
    "\n",
    "model.add(Dense(512)) \n",
    "model.add (Activation (activation= 'relu'))\n",
    "\n",
    "#model.add (Dense (128))\n",
    "#model.add(Activation(activation= 'relu')) \n",
    "'''\n",
    "model.add(Dense (10)) \n",
    "model.add(Activation(activation='softmax')) \n",
    "\n",
    "model.compile (loss='binary_crossentropy' , metrics=['categorical_accuracy'] , optimizer=SGD (0.005) )\n",
    "\n",
    "print (BD)\n"
   ]
  },
  {
   "cell_type": "markdown",
   "metadata": {
    "id": "B_Sg_qjUVXo3",
    "colab_type": "text"
   },
   "source": [
    "Squential model with Conv\n"
   ]
  },
  {
   "cell_type": "code",
   "execution_count": 0,
   "metadata": {
    "id": "PWctjc30Vc2L",
    "colab_type": "code",
    "colab": {}
   },
   "outputs": [],
   "source": [
    "\n",
    "'''\n",
    "model = Sequential()\n",
    "model.add(Conv1D(64, 3, activation='relu', input_shape=(4032, 1)))\n",
    "model.add(Conv1D(64, 3, activation='relu'))\n",
    "model.add(MaxPooling1D(3))\n",
    "\n",
    "model.add(Conv1D(128, 3, activation='relu'))\n",
    "model.add(Conv1D(128, 3, activation='relu'))\n",
    "model.add(GlobalAveragePooling1D())\n",
    "\n",
    "model.add(Dense(100, activation='relu'))\n",
    "#model.add(Dropout(0.3))\n",
    "\n",
    "model.add(Dense(10, activation='sigmoid'))\n",
    "\n",
    "model.compile(loss='binary_crossentropy',optimizer=Adam(0.005) ,metrics=[categorical_accuracy])\n",
    "\n",
    "#model.compile(loss='categorical_crossentropy', optimizer='adam', metrics=['accuracy'])\n",
    "\n",
    "\n",
    "'''\n",
    "using resnet ResNet152\n",
    "\n",
    "model = Sequential()\n",
    "model.add(Conv1D(filters=64, kernel_size=3, activation='relu', input_shape=(2048,1) , data_format=\"channels_last\"))\n",
    "model.add(Conv1D(filters=64, kernel_size=3, activation='relu'))\n",
    "model.add(Dropout(0.5))\n",
    "model.add(MaxPooling1D(pool_size=2))\n",
    "model.add(Flatten())\n",
    "model.add(Dense(100, activation='relu'))\n",
    "model.add(Dense(10, activation='softmax'))\n",
    "model.compile(loss='binary_crossentropy', optimizer=Adamax(0.01), metrics=['categorical_accuracy'])\n",
    "\n",
    "\n",
    "print (BD)"
   ]
  },
  {
   "cell_type": "markdown",
   "metadata": {
    "id": "JhIiJHhJFHS9",
    "colab_type": "text"
   },
   "source": [
    "Model fitting\n"
   ]
  },
  {
   "cell_type": "code",
   "execution_count": 0,
   "metadata": {
    "id": "n43FJAWxAqRv",
    "colab_type": "code",
    "colab": {}
   },
   "outputs": [],
   "source": [
    "b = top_features_Resnet [:,:,newaxis]\n",
    "\n",
    "model.fit ( b, Y_train , epochs=2 , batch_size=100  )\n",
    "\n"
   ]
  },
  {
   "cell_type": "markdown",
   "metadata": {
    "id": "E9-2JbskzJPU",
    "colab_type": "text"
   },
   "source": [
    "inception_resnet_v2"
   ]
  },
  {
   "cell_type": "code",
   "execution_count": 0,
   "metadata": {
    "id": "arpZAk1tzH73",
    "colab_type": "code",
    "colab": {}
   },
   "outputs": [],
   "source": [
    "base_model=inception_resnet_v2.InceptionResNetV2(include_top=False, weights='imagenet')\n",
    "x = base_model.output\n",
    "x = layers.GlobalAveragePooling2D()(x)\n",
    "x = Dense(128, activation='relu')(x)\n",
    "x = Dropout(0.5)(x)\n",
    "predictions = Dense(10, activation='softmax')(x)\n",
    "\n",
    "model = Model (base_model.input , predictions)\n",
    "\n",
    "model.compile(loss=\"categorical_crossentropy\", optimizer=SGD(lr=0.001, momentum=0.9),metrics=[\"accuracy\"])\n",
    "print (BD)\n"
   ]
  },
  {
   "cell_type": "code",
   "execution_count": 0,
   "metadata": {
    "id": "4uED02aR2Azo",
    "colab_type": "code",
    "outputId": "f3b46078-3431-4454-f6c9-7eff82c00096",
    "executionInfo": {
     "status": "error",
     "timestamp": 1.577144701557E12,
     "user_tz": -120.0,
     "elapsed": 736.0,
     "user": {
      "displayName": "Gehad Khaled",
      "photoUrl": "https://lh3.googleusercontent.com/a-/AAuE7mCN2B6cZoY9qF23IVlFPxtDD9xK2swDQq8IWPBa6g=s64",
      "userId": "16965718187253442357"
     }
    },
    "colab": {
     "base_uri": "https://localhost:8080/",
     "height": 148.0
    }
   },
   "outputs": [
    {
     "name": "stdout",
     "output_type": "stream",
     "text": [
      "WARNING:tensorflow:From /usr/local/lib/python3.6/dist-packages/tensorflow_core/python/ops/math_grad.py:1424: where (from tensorflow.python.ops.array_ops) is deprecated and will be removed in a future version.\n",
      "Instructions for updating:\n",
      "Use tf.where in 2.0, which has the same broadcast rule as np.where\n",
      "WARNING:tensorflow:From /usr/local/lib/python3.6/dist-packages/keras/backend/tensorflow_backend.py:1033: The name tf.assign_add is deprecated. Please use tf.compat.v1.assign_add instead.\n",
      "\n",
      "Epoch 1/2\n"
     ]
    }
   ],
   "source": [
    "model.fit (X_train , Y_train , epochs = 2 , batch_size=100)"
   ]
  },
  {
   "cell_type": "markdown",
   "metadata": {
    "id": "wWqO3z1fzAyJ",
    "colab_type": "text"
   },
   "source": [
    "Validate Xception & Resnet Models"
   ]
  },
  {
   "cell_type": "code",
   "execution_count": 0,
   "metadata": {
    "id": "fBhH5o-dzCwI",
    "colab_type": "code",
    "outputId": "fd9297ba-2921-4871-f0f2-c232481ff128",
    "executionInfo": {
     "status": "ok",
     "timestamp": 1.577138700378E12,
     "user_tz": -120.0,
     "elapsed": 25840.0,
     "user": {
      "displayName": "Gehad Khaled",
      "photoUrl": "https://lh3.googleusercontent.com/a-/AAuE7mCN2B6cZoY9qF23IVlFPxtDD9xK2swDQq8IWPBa6g=s64",
      "userId": "16965718187253442357"
     }
    },
    "colab": {
     "base_uri": "https://localhost:8080/",
     "height": 68.0
    }
   },
   "outputs": [
    {
     "name": "stdout",
     "output_type": "stream",
     "text": [
      "0.9203539823008849\n",
      "226/226 [==============================] - 0s 533us/step\n"
     ]
    },
    {
     "data": {
      "text/plain": [
       "[0.2960603152179217, 0.9203539823008849]"
      ]
     },
     "execution_count": 109,
     "metadata": {
      "tags": []
     },
     "output_type": "execute_result"
    }
   ],
   "source": [
    "############# \"\" Validation Inception V3 Model \"\" ##########\n",
    "#top_Validation_features_Resnet = seen.predict(X_Validate)\n",
    "#top_Validation_features_Resnet = top_Validation_features_Resnet[:,:,newaxis]\n",
    "#y_predict = model.predict (top_Validation_features_Resnet)\n",
    "#acc = sum([np.argmax(Y_Validate[i])==np.argmax(y_predict[i]) for i in range(226)])/226\n",
    "#print (acc)\n",
    "#model.evaluate(top_Validation_features_Resnet , Y_Validate)\n",
    "\n",
    "############# \"\" Validation Resnet Model \"\" ##########\n",
    "top_Validation_features_Resnet = Resnet_model.predict(X_Validate)\n",
    "top_Validation_features_Resnet = top_Validation_features_Resnet[:,:,newaxis]\n",
    "y_predict = model.predict (top_Validation_features_Resnet)\n",
    "\n",
    "\n",
    "acc = sum([np.argmax(Y_Validate[i])==np.argmax(y_predict[i]) for i in range(226)])/226\n",
    "print (acc)\n",
    "model.evaluate(top_Validation_features_Resnet , Y_Validate)\n",
    "\n",
    "############# \"\" Validation Xception Model \"\" ##########\n",
    "#top_validation_features_Xception = Xception_model.predict(X_Validate)\n",
    "#top_validation_features_Xception = top_validation_features_Xception[:,:,newaxis]\n",
    "\n",
    "#y_predict = model.predict (top_validation_features_Xception)\n",
    "#acc = sum([np.argmax(Y_Validate[i])==np.argmax(y_predict[i]) for i in range(226)])/226\n",
    "#print (acc)\n",
    "#model.evaluate(top_validation_features_Xception , Y_Validate)\n",
    "\n"
   ]
  },
  {
   "cell_type": "markdown",
   "metadata": {
    "id": "rYh9JVg-82hi",
    "colab_type": "text"
   },
   "source": [
    "Validate VGG Model"
   ]
  },
  {
   "cell_type": "code",
   "execution_count": 0,
   "metadata": {
    "id": "C1Cht-ib84C_",
    "colab_type": "code",
    "outputId": "c087c54c-a99a-4aab-8bf7-102b66a6fdbe",
    "executionInfo": {
     "status": "ok",
     "timestamp": 1.576734754752E12,
     "user_tz": -120.0,
     "elapsed": 1340.0,
     "user": {
      "displayName": "Wael Mohamed",
      "photoUrl": "https://lh3.googleusercontent.com/a-/AAuE7mCd3pHVlEXQwIlbIVMUDu5jLf6mEzYj5dBuP6Va=s64",
      "userId": "16989765338276138215"
     }
    },
    "colab": {
     "base_uri": "https://localhost:8080/",
     "height": 51.0
    }
   },
   "outputs": [
    {
     "name": "stdout",
     "output_type": "stream",
     "text": [
      "226/226 [==============================] - 0s 202us/step\n"
     ]
    },
    {
     "data": {
      "text/plain": [
       "[0.5219581757499089, 0.8893805309734514]"
      ]
     },
     "execution_count": 224,
     "metadata": {
      "tags": []
     },
     "output_type": "execute_result"
    }
   ],
   "source": [
    "\n",
    "top_Validation_features = vgg19_model.predict(X_Validate) \n",
    "model.evaluate(top_Validation_features , Y_Validate)\n"
   ]
  },
  {
   "cell_type": "markdown",
   "metadata": {
    "id": "Sndqk2PxOGDn",
    "colab_type": "text"
   },
   "source": [
    "prediction for testing data"
   ]
  },
  {
   "cell_type": "code",
   "execution_count": 0,
   "metadata": {
    "id": "XRhOANZXOFsn",
    "colab_type": "code",
    "outputId": "85953af2-c4b2-42c9-9066-d463e07e3dba",
    "executionInfo": {
     "status": "error",
     "timestamp": 1.577123045409E12,
     "user_tz": -120.0,
     "elapsed": 806.0,
     "user": {
      "displayName": "Wael Mohamed",
      "photoUrl": "https://lh3.googleusercontent.com/a-/AAuE7mCd3pHVlEXQwIlbIVMUDu5jLf6mEzYj5dBuP6Va=s64",
      "userId": "16989765338276138215"
     }
    },
    "colab": {
     "base_uri": "https://localhost:8080/",
     "height": 231.0
    }
   },
   "outputs": [
    {
     "ename": "NameError",
     "evalue": "ignored",
     "traceback": [
      "\u001b[0;31m---------------------------------------------------------------------------\u001b[0m",
      "\u001b[0;31mNameError\u001b[0m                                 Traceback (most recent call last)",
      "\u001b[0;32m<ipython-input-1-fd4fd78919ff>\u001b[0m in \u001b[0;36m<module>\u001b[0;34m()\u001b[0m\n\u001b[0;32m----> 1\u001b[0;31m \u001b[0mprint\u001b[0m \u001b[0;34m(\u001b[0m\u001b[0mX_test\u001b[0m\u001b[0;34m.\u001b[0m\u001b[0mshape\u001b[0m\u001b[0;34m)\u001b[0m\u001b[0;34m\u001b[0m\u001b[0;34m\u001b[0m\u001b[0m\n\u001b[0m\u001b[1;32m      2\u001b[0m \u001b[0;34m\u001b[0m\u001b[0m\n\u001b[1;32m      3\u001b[0m \u001b[0mtest_top_features\u001b[0m \u001b[0;34m=\u001b[0m \u001b[0mResnet_model\u001b[0m\u001b[0;34m.\u001b[0m\u001b[0mpredict\u001b[0m \u001b[0;34m(\u001b[0m\u001b[0mX_test\u001b[0m\u001b[0;34m)\u001b[0m\u001b[0;34m\u001b[0m\u001b[0;34m\u001b[0m\u001b[0m\n\u001b[1;32m      4\u001b[0m \u001b[0mprint\u001b[0m \u001b[0;34m(\u001b[0m\u001b[0mtest_top_features\u001b[0m\u001b[0;34m.\u001b[0m\u001b[0mshape\u001b[0m\u001b[0;34m)\u001b[0m\u001b[0;34m\u001b[0m\u001b[0;34m\u001b[0m\u001b[0m\n\u001b[1;32m      5\u001b[0m \u001b[0mx_test_top\u001b[0m \u001b[0;34m=\u001b[0m \u001b[0mtest_top_features\u001b[0m\u001b[0;34m[\u001b[0m\u001b[0;34m:\u001b[0m\u001b[0;34m,\u001b[0m\u001b[0;34m:\u001b[0m\u001b[0;34m,\u001b[0m\u001b[0mnewaxis\u001b[0m\u001b[0;34m]\u001b[0m\u001b[0;34m\u001b[0m\u001b[0;34m\u001b[0m\u001b[0m\n",
      "\u001b[0;31mNameError\u001b[0m: name 'X_test' is not defined"
     ],
     "output_type": "error"
    }
   ],
   "source": [
    "print (X_test.shape)\n",
    "\n",
    "test_top_features = Resnet_model.predict (X_test) \n",
    "print (test_top_features.shape)\n",
    "x_test_top = test_top_features[:,:,newaxis]\n",
    "#test_top_features = np.expand_dims(test_top_features , axis =2)\n",
    "print(test_top_features.shape)\n",
    "\n",
    "Y_prediction = model.predict(x_test_top)\n",
    "\n",
    "\n",
    "print (Y_prediction.shape)\n",
    "# to get index of  maximum prob in each array in Y_prediction\n",
    "Y_prediction = np.argmax(Y_prediction , axis=1) \n",
    "\n",
    "#to increament one for each element to describe id \n",
    "Y_prediction = [i+1 for i in Y_prediction]\n",
    "print (Y_prediction)\n",
    "\n"
   ]
  },
  {
   "cell_type": "markdown",
   "metadata": {
    "id": "5fIYr6GwOrkR",
    "colab_type": "text"
   },
   "source": [
    "Create output\n"
   ]
  },
  {
   "cell_type": "code",
   "execution_count": 0,
   "metadata": {
    "id": "9YUfgf21OsI3",
    "colab_type": "code",
    "outputId": "0a832e5d-59f5-48f1-885d-5efc60e1b0e9",
    "executionInfo": {
     "status": "ok",
     "timestamp": 1.577029925946E12,
     "user_tz": -120.0,
     "elapsed": 1385.0,
     "user": {
      "displayName": "Wael Mohamed",
      "photoUrl": "https://lh3.googleusercontent.com/a-/AAuE7mCd3pHVlEXQwIlbIVMUDu5jLf6mEzYj5dBuP6Va=s64",
      "userId": "16989765338276138215"
     }
    },
    "colab": {
     "base_uri": "https://localhost:8080/",
     "height": 34.0
    }
   },
   "outputs": [
    {
     "name": "stdout",
     "output_type": "stream",
     "text": [
      "772\n"
     ]
    }
   ],
   "source": [
    "output = [] \n",
    "for i in range (len (Y_prediction)) :\n",
    "  output.append([testing_imgs_IDs[i][0] ,Y_prediction[i] ])\n",
    "print (len (output))"
   ]
  },
  {
   "cell_type": "markdown",
   "metadata": {
    "id": "b8oYNtoZOudQ",
    "colab_type": "text"
   },
   "source": [
    "write result in CSV file "
   ]
  },
  {
   "cell_type": "code",
   "execution_count": 0,
   "metadata": {
    "id": "vPc-v0vqO3Ci",
    "colab_type": "code",
    "colab": {}
   },
   "outputs": [],
   "source": [
    "\n",
    "with open ('submit.csv' , 'w' , newline='' ) as file :\n",
    "  writer = csv.writer(file)\n",
    "  writer.writerow (['id' , 'label'])\n",
    "  writer.writerows(output)\n",
    "  \n",
    "  "
   ]
  }
 ],
 "metadata": {
  "colab": {
   "name": "Keras-Resnet-TL",
   "provenance": [],
   "collapsed_sections": [],
   "machine_shape": "hm"
  },
  "kernelspec": {
   "name": "python3",
   "display_name": "Python 3"
  }
 },
 "nbformat": 4,
 "nbformat_minor": 0
}
